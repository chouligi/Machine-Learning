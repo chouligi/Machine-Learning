{
 "cells": [
  {
   "cell_type": "markdown",
   "metadata": {},
   "source": [
    "# **Save this file as studentid1_studentid2_lab#.ipynb**\n",
    "(Your student-id is the number shown on your student card.)\n",
    "\n",
    "E.g. if you work with 3 people, the notebook should be named:\n",
    "12301230_3434343_1238938934_lab1.ipynb.\n",
    "\n",
    "**This will be parsed by a regexp, so please double check your filename.**\n",
    "\n",
    "Before you turn this problem in, please make sure everything runs correctly. First, **restart the kernel** (in the menubar, select Kernel$\\rightarrow$Restart) and then **run all cells** (in the menubar, select Cell$\\rightarrow$Run All).\n",
    "\n",
    "**Make sure you fill in any place that says `YOUR CODE HERE` or \"YOUR ANSWER HERE\", as well as your names and email adresses below.**\n",
    "\n"
   ]
  },
  {
   "cell_type": "code",
   "execution_count": 1,
   "metadata": {
    "collapsed": true
   },
   "outputs": [],
   "source": [
    "NAME = \"George Chouliaras\"\n",
    "NAME2 = \"Jonathan Jeroen Beekman\"\n",
    "NAME3 = \"\"\n",
    "EMAIL = \"g.chouliaras@student.vu.nl\"\n",
    "EMAIL2 = \"\"\n",
    "EMAIL3 = \"\""
   ]
  },
  {
   "cell_type": "markdown",
   "metadata": {},
   "source": [
    "---"
   ]
  },
  {
   "cell_type": "markdown",
   "metadata": {
    "deletable": false,
    "editable": false,
    "nbgrader": {
     "checksum": "c39ec76a03b2143870009fb35729e8e0",
     "grade": false,
     "grade_id": "cell-8d856208da5d0763",
     "locked": true,
     "schema_version": 1,
     "solution": false
    }
   },
   "source": [
    "# Lab 2: Classification\n",
    "\n",
    "### Machine Learning 1, September 2017\n",
    "\n",
    "Notes on implementation:\n",
    "\n",
    "* You should write your code and answers in this IPython Notebook: http://ipython.org/notebook.html. If you have problems, please contact your teaching assistant.\n",
    "* Please write your answers right below the questions.\n",
    "* Among the first lines of your notebook should be \"%pylab inline\". This imports all required modules, and your plots will appear inline.\n",
    "* Use the provided test cells to check if your answers are correct\n",
    "* **Make sure your output and plots are correct before handing in your assignment with Kernel -> Restart & Run All**\n",
    "\n",
    "$\\newcommand{\\bx}{\\mathbf{x}}$\n",
    "$\\newcommand{\\bw}{\\mathbf{w}}$\n",
    "$\\newcommand{\\bt}{\\mathbf{t}}$\n",
    "$\\newcommand{\\by}{\\mathbf{y}}$\n",
    "$\\newcommand{\\bm}{\\mathbf{m}}$\n",
    "$\\newcommand{\\bb}{\\mathbf{b}}$\n",
    "$\\newcommand{\\bS}{\\mathbf{S}}$\n",
    "$\\newcommand{\\ba}{\\mathbf{a}}$\n",
    "$\\newcommand{\\bz}{\\mathbf{z}}$\n",
    "$\\newcommand{\\bv}{\\mathbf{v}}$\n",
    "$\\newcommand{\\bq}{\\mathbf{q}}$\n",
    "$\\newcommand{\\bp}{\\mathbf{p}}$\n",
    "$\\newcommand{\\bh}{\\mathbf{h}}$\n",
    "$\\newcommand{\\bI}{\\mathbf{I}}$\n",
    "$\\newcommand{\\bX}{\\mathbf{X}}$\n",
    "$\\newcommand{\\bT}{\\mathbf{T}}$\n",
    "$\\newcommand{\\bPhi}{\\mathbf{\\Phi}}$\n",
    "$\\newcommand{\\bW}{\\mathbf{W}}$\n",
    "$\\newcommand{\\bV}{\\mathbf{V}}$"
   ]
  },
  {
   "cell_type": "code",
   "execution_count": 2,
   "metadata": {
    "deletable": false,
    "editable": false,
    "nbgrader": {
     "checksum": "694e16c6fa7261b60747c28904049744",
     "grade": false,
     "grade_id": "cell-422dbc02437671ac",
     "locked": true,
     "schema_version": 1,
     "solution": false
    }
   },
   "outputs": [
    {
     "name": "stdout",
     "output_type": "stream",
     "text": [
      "Populating the interactive namespace from numpy and matplotlib\n"
     ]
    }
   ],
   "source": [
    "%pylab inline\n",
    "plt.rcParams[\"figure.figsize\"] = [9,5]"
   ]
  },
  {
   "cell_type": "markdown",
   "metadata": {
    "deletable": false,
    "editable": false,
    "nbgrader": {
     "checksum": "17f77a32492fcf6ac989eab8a50e4dab",
     "grade": false,
     "grade_id": "cell-821f67d8cd14e4f7",
     "locked": true,
     "schema_version": 1,
     "solution": false
    }
   },
   "source": [
    "# Part 1. Multiclass logistic regression\n",
    "\n",
    "Scenario: you have a friend with one big problem: she's completely blind. You decided to help her: she has a special smartphone for blind people, and you are going to develop a mobile phone app that can do _machine vision_ using the mobile camera: converting a picture (from the camera) to the meaning of the image. You decide to start with an app that can read handwritten digits, i.e. convert an image of handwritten digits to text (e.g. it would enable her to read precious handwritten phone numbers).\n",
    "\n",
    "A key building block for such an app would be a function `predict_digit(x)` that returns the digit class of an image patch $\\bx$. Since hand-coding this function is highly non-trivial, you decide to solve this problem using machine learning, such that the internal parameters of this function are automatically learned using machine learning techniques.\n",
    "\n",
    "The dataset you're going to use for this is the MNIST handwritten digits dataset (`http://yann.lecun.com/exdb/mnist/`). You can download the data with scikit learn, and load it as follows:"
   ]
  },
  {
   "cell_type": "code",
   "execution_count": 3,
   "metadata": {
    "collapsed": true,
    "deletable": false,
    "editable": false,
    "nbgrader": {
     "checksum": "b82a7c9aec1e9157526d4fbe12f1d75d",
     "grade": false,
     "grade_id": "cell-bcdbc957165abae7",
     "locked": true,
     "schema_version": 1,
     "solution": false
    }
   },
   "outputs": [],
   "source": [
    "from sklearn.datasets import fetch_mldata\n",
    "# Fetch the data\n",
    "mnist = fetch_mldata('MNIST original')\n",
    "data, target = mnist.data, mnist.target.astype('int')\n",
    "# Shuffle\n",
    "indices = np.arange(len(data))\n",
    "np.random.seed(123)\n",
    "np.random.shuffle(indices)\n",
    "data, target = data[indices].astype('float32'), target[indices]\n",
    "\n",
    "# Normalize the data between 0.0 and 1.0:\n",
    "data /= 255. \n",
    "\n",
    "# Split\n",
    "x_train, x_valid, x_test = data[:50000], data[50000:60000], data[60000: 70000]\n",
    "t_train, t_valid, t_test = target[:50000], target[50000:60000], target[60000: 70000]"
   ]
  },
  {
   "cell_type": "markdown",
   "metadata": {
    "deletable": false,
    "editable": false,
    "nbgrader": {
     "checksum": "5b20138af0810741223d2c2ddc82bf0f",
     "grade": false,
     "grade_id": "cell-b7b4a5a96dccf229",
     "locked": true,
     "schema_version": 1,
     "solution": false
    }
   },
   "source": [
    "MNIST consists of small 28 by 28 pixel images of written digits (0-9). We split the dataset into a training, validation and testing arrays. The variables `x_train`, `x_valid` and `x_test` are $N \\times M$ matrices, where $N$ is the number of datapoints in the respective set, and $M = 28^2 = 784$ is the dimensionality of the data. The second set of variables `t_train`, `t_valid` and `t_test` contain the corresponding $N$-dimensional vector of integers, containing the true class labels.\n",
    "\n",
    "Here's a visualisation of the first 8 digits of the trainingset:"
   ]
  },
  {
   "cell_type": "code",
   "execution_count": 4,
   "metadata": {
    "deletable": false,
    "editable": false,
    "nbgrader": {
     "checksum": "40e1628ec56b6d664edf9aaf496ea637",
     "grade": false,
     "grade_id": "cell-48a92c0a2a2bf4dd",
     "locked": true,
     "schema_version": 1,
     "solution": false
    },
    "scrolled": false
   },
   "outputs": [
    {
     "data": {
      "image/png": "[encoded data removed]",
      "text/plain": [
       "<matplotlib.figure.Figure at 0x1124e6978>"
      ]
     },
     "metadata": {},
     "output_type": "display_data"
    }
   ],
   "source": [
    "def plot_digits(data, num_cols, targets=None, shape=(28,28)):\n",
    "    num_digits = data.shape[0]\n",
    "    num_rows = int(num_digits/num_cols)\n",
    "    for i in range(num_digits):\n",
    "        plt.subplot(num_rows, num_cols, i+1)\n",
    "        plt.imshow(data[i].reshape(shape), interpolation='none', cmap='Greys')\n",
    "        if targets is not None:\n",
    "            plt.title(int(targets[i]))\n",
    "        plt.colorbar()\n",
    "        plt.axis('off')\n",
    "    plt.tight_layout()\n",
    "    plt.show()\n",
    "    \n",
    "plot_digits(x_train[0:40000:5000], num_cols=4, targets=t_train[0:40000:5000])"
   ]
  },
  {
   "cell_type": "code",
   "execution_count": 5,
   "metadata": {
    "editable": false,
    "nbgrader": {
     "checksum": "40e1628ec56b6d664edf9aaf496ea637",
     "grade": false,
     "grade_id": "cell-48a92c0a2a2bf4dd",
     "locked": true,
     "schema_version": 1,
     "solution": false
    },
    "scrolled": true
   },
   "outputs": [
    {
     "data": {
      "image/png": "[encoded data removed]",
      "text/plain": [
       "<matplotlib.figure.Figure at 0x112fef400>"
      ]
     },
     "metadata": {},
     "output_type": "display_data"
    }
   ],
   "source": [
    "def plot_digits(data, num_cols, targets=None, shape=(28,28)):\n",
    "    num_digits = data.shape[0]\n",
    "    num_rows = int(num_digits/num_cols)\n",
    "    for i in range(num_digits):\n",
    "        plt.subplot(num_rows, num_cols, i+1)\n",
    "        plt.imshow(data[i].reshape(shape), interpolation='none', cmap='Greys')\n",
    "        if targets is not None:\n",
    "            plt.title(int(targets[i]))\n",
    "        plt.colorbar()\n",
    "        plt.axis('off')\n",
    "    plt.tight_layout()\n",
    "    plt.show()\n",
    "    \n",
    "plot_digits(x_train[0:40000:5000], num_cols=4, targets=t_train[0:40000:5000])"
   ]
  },
  {
   "cell_type": "markdown",
   "metadata": {
    "deletable": false,
    "editable": false,
    "nbgrader": {
     "checksum": "9908b1f7669980cd126946bf7983c096",
     "grade": false,
     "grade_id": "cell-3eb664a58e03bf42",
     "locked": true,
     "schema_version": 1,
     "solution": false
    }
   },
   "source": [
    "In _multiclass_ logistic regression, the conditional probability of class label $j$ given the image $\\bx$ for some datapoint is given by:\n",
    "\n",
    "$ \\log p(t = j \\;|\\; \\bx, \\bb, \\bW) = \\log q_j - \\log Z$\n",
    "\n",
    "where $\\log q_j = \\bw_j^T \\bx + b_j$ (the log of the unnormalized probability of the class $j$), and $Z = \\sum_k q_k$ is the normalizing factor. $\\bw_j$ is the $j$-th column of $\\bW$ (a matrix of size $784 \\times 10$) corresponding to the class label, $b_j$ is the $j$-th element of $\\bb$.\n",
    "\n",
    "Given an input image, the multiclass logistic regression model first computes the intermediate vector $\\log \\bq$ (of size $10 \\times 1$), using $\\log q_j = \\bw_j^T \\bx + b_j$, containing the unnormalized log-probabilities per class. \n",
    "\n",
    "The unnormalized probabilities are then normalized by $Z$ such that $\\sum_j p_j = \\sum_j \\exp(\\log p_j) = 1$. This is done by $\\log p_j = \\log q_j - \\log Z$ where $Z = \\sum_i \\exp(\\log q_i)$. This is known as the _softmax_ transformation, and is also used as a last layer of many classifcation neural network models, to ensure that the output of the network is a normalized distribution, regardless of the values of second-to-last layer ($\\log \\bq$)\n",
    "\n",
    "**Warning**: when computing $\\log Z$, you are likely to encounter numerical problems. Save yourself countless hours of debugging and learn the [log-sum-exp trick](https://hips.seas.harvard.edu/blog/2013/01/09/computing-log-sum-exp/ \"Title\").\n",
    "\n",
    "The network's output $\\log \\bp$ of size $10 \\times 1$ then contains the conditional log-probabilities $\\log p(t = j \\;|\\; \\bx, \\bb, \\bW)$ for each digit class $j$. In summary, the computations are done in this order:\n",
    "\n",
    "$\\bx \\rightarrow \\log \\bq \\rightarrow Z \\rightarrow \\log \\bp$\n",
    "\n",
    "Given some dataset with $N$ independent, identically distributed datapoints, the log-likelihood is given by:\n",
    "\n",
    "$ \\mathcal{L}(\\bb, \\bW) = \\sum_{n=1}^N \\mathcal{L}^{(n)}$\n",
    "\n",
    "where we use $\\mathcal{L}^{(n)}$ to denote the partial log-likelihood evaluated over a single datapoint. It is important to see that the log-probability of the class label $t^{(n)}$ given the image, is given by the $t^{(n)}$-th element of the network's output $\\log \\bp$, denoted by $\\log p_{t^{(n)}}$:\n",
    "\n",
    "$\\mathcal{L}^{(n)} = \\log p(t = t^{(n)} \\;|\\; \\bx = \\bx^{(n)}, \\bb, \\bW) = \\log p_{t^{(n)}} = \\log q_{t^{(n)}} - \\log Z^{(n)}$\n",
    "\n",
    "where $\\bx^{(n)}$ and $t^{(n)}$ are the input (image) and class label (integer) of the $n$-th datapoint, and $Z^{(n)}$ is the normalizing constant for the distribution over $t^{(n)}$.\n"
   ]
  },
  {
   "cell_type": "markdown",
   "metadata": {
    "deletable": false,
    "editable": false,
    "nbgrader": {
     "checksum": "dfb50b2b2d11a7b8d1fe9bf5e9586442",
     "grade": false,
     "grade_id": "cell-17766ee789f11384",
     "locked": true,
     "schema_version": 1,
     "solution": false
    }
   },
   "source": [
    "## 1.1 Gradient-based stochastic optimization\n",
    "### 1.1.1 Derive gradient equations (20 points)\n",
    "\n",
    "Derive the equations for computing the (first) partial derivatives of the log-likelihood w.r.t. all the parameters, evaluated at a _single_ datapoint $n$.\n",
    "\n",
    "You should start deriving the equations for $\\frac{\\partial \\mathcal{L}^{(n)}}{\\partial \\log q_j}$ for each $j$. For clarity, we'll use the shorthand $\\delta^q_j = \\frac{\\partial \\mathcal{L}^{(n)}}{\\partial \\log q_j}$.\n",
    "\n",
    "For $j = t^{(n)}$:\n",
    "$\n",
    "\\delta^q_j\n",
    "= \\frac{\\partial \\mathcal{L}^{(n)}}{\\partial \\log p_j}\n",
    "\\frac{\\partial \\log p_j}{\\partial \\log q_j}\n",
    "+ \\frac{\\partial \\mathcal{L}^{(n)}}{\\partial \\log Z}\n",
    "\\frac{\\partial \\log Z}{\\partial Z} \n",
    "\\frac{\\partial Z}{\\partial \\log q_j} \n",
    "= 1 \\cdot 1 - \\frac{\\partial \\log Z}{\\partial Z} \n",
    "\\frac{\\partial Z}{\\partial \\log q_j}\n",
    "= 1 - \\frac{\\partial \\log Z}{\\partial Z} \n",
    "\\frac{\\partial Z}{\\partial \\log q_j}\n",
    "$\n",
    "\n",
    "For $j \\neq t^{(n)}$:\n",
    "$\n",
    "\\delta^q_j\n",
    "= \\frac{\\partial \\mathcal{L}^{(n)}}{\\partial \\log Z}\n",
    "\\frac{\\partial \\log Z}{\\partial Z} \n",
    "\\frac{\\partial Z}{\\partial \\log q_j} \n",
    "= - \\frac{\\partial \\log Z}{\\partial Z} \n",
    "\\frac{\\partial Z}{\\partial \\log q_j}\n",
    "$\n",
    "\n",
    "Complete the above derivations for $\\delta^q_j$ by furtherly developing $\\frac{\\partial \\log Z}{\\partial Z}$ and $\\frac{\\partial Z}{\\partial \\log q_j}$. Both are quite simple. For these it doesn't matter whether $j = t^{(n)}$ or not.\n",
    "\n"
   ]
  },
  {
   "cell_type": "markdown",
   "metadata": {
    "deletable": false,
    "nbgrader": {
     "checksum": "f394ea0423ed2b17c80bbe8f1193cc81",
     "grade": true,
     "grade_id": "cell-e40110444a1e1d3f",
     "locked": false,
     "points": 10,
     "schema_version": 1,
     "solution": true
    }
   },
   "source": [
    "\\begin{align}\n",
    "    \\frac{\\partial \\log Z}{\\partial Z} &= \\frac{1}{Z}\\\\\n",
    "    \\frac{\\partial Z}{\\partial \\log q_j} &= \\frac{\\partial}{\\partial \\log q_j}\\sum_ie^{\\log q_i}\\\\\n",
    "    &= e^{\\log q_j} = q_j\n",
    "\\end{align}\n",
    "\n",
    "For $j = t^{(n)}$:\n",
    "\\begin{align}\n",
    "\\delta^q_j\n",
    "&= 1 - \\frac{q_j}{Z}\n",
    "\\end{align}\n",
    "For $j \\neq t^{(n)}$:\n",
    "\\begin{align}\n",
    "\\delta^q_j\n",
    "&= - \\frac{q_j}{Z}\n",
    "\\end{align}"
   ]
  },
  {
   "cell_type": "markdown",
   "metadata": {
    "deletable": false,
    "editable": false,
    "nbgrader": {
     "checksum": "d46c028e9830445397d7b2275815990d",
     "grade": false,
     "grade_id": "cell-c770cfe1389ca4ff",
     "locked": true,
     "schema_version": 1,
     "solution": false
    }
   },
   "source": [
    "Given your equations for computing the gradients $\\delta^q_j$ it should be quite straightforward to derive the equations for the gradients of the parameters of the model, $\\frac{\\partial \\mathcal{L}^{(n)}}{\\partial W_{ij}}$ and $\\frac{\\partial \\mathcal{L}^{(n)}}{\\partial b_j}$. The gradients for the biases $\\bb$ are given by:\n",
    "\n",
    "$\n",
    "\\frac{\\partial \\mathcal{L}^{(n)}}{\\partial b_j}\n",
    "= \\frac{\\partial \\mathcal{L}^{(n)}}{\\partial \\log q_j}\n",
    "\\frac{\\partial \\log q_j}{\\partial b_j}\n",
    "= \\delta^q_j\n",
    "\\cdot 1\n",
    "= \\delta^q_j\n",
    "$\n",
    "\n",
    "The equation above gives the derivative of $\\mathcal{L}^{(n)}$ w.r.t. a single element of $\\bb$, so the vector $\\nabla_\\bb \\mathcal{L}^{(n)}$ with all derivatives of $\\mathcal{L}^{(n)}$ w.r.t. the bias parameters $\\bb$ is: \n",
    "\n",
    "$\n",
    "\\nabla_\\bb \\mathcal{L}^{(n)} = \\mathbf{\\delta}^q\n",
    "$\n",
    "\n",
    "where $\\mathbf{\\delta}^q$ denotes the vector of size $10 \\times 1$ with elements $\\mathbf{\\delta}_j^q$.\n",
    "\n",
    "The (not fully developed) equation for computing the derivative of $\\mathcal{L}^{(n)}$ w.r.t. a single element $W_{ij}$ of $\\bW$ is:\n",
    "\n",
    "$\n",
    "\\frac{\\partial \\mathcal{L}^{(n)}}{\\partial W_{ij}} =\n",
    "\\frac{\\partial \\mathcal{L}^{(n)}}{\\partial \\log q_j}\n",
    "\\frac{\\partial \\log q_j}{\\partial W_{ij}}\n",
    "= \\mathbf{\\delta}_j^q\n",
    "\\frac{\\partial \\log q_j}{\\partial W_{ij}}\n",
    "$\n",
    "\n",
    "What is $\\frac{\\partial \\log q_j}{\\partial W_{ij}}$? Complete the equation above.\n",
    "\n",
    "If you want, you can give the resulting equation in vector format ($\\nabla_{\\bw_j} \\mathcal{L}^{(n)} = ...$), like we did for $\\nabla_\\bb \\mathcal{L}^{(n)}$."
   ]
  },
  {
   "cell_type": "markdown",
   "metadata": {
    "deletable": false,
    "nbgrader": {
     "checksum": "70fc98e5b227736e2bb92964a3c7174d",
     "grade": true,
     "grade_id": "cell-e40110444a1asdfasdfd3f",
     "locked": false,
     "points": 10,
     "schema_version": 1,
     "solution": true
    }
   },
   "source": [
    "---\n",
    "$\\frac{\\partial \\mathcal{L}^{(n)}}{\\partial W_{ij}} = \\mathbf{\\delta}_j^q   \\frac{\\partial (\\mathbf{w}_j^T \\mathbf{x} + b_j)}{\\partial W_{ij}}  = \\mathbf{\\delta}_j^q  \\frac{\\partial (\\mathbf{w}_j^T \\mathbf{x})}{\\partial W_{ij}} = \\mathbf{\\delta}_j^q  \\frac{\\partial (\\sum_i W_{ij} x_i)}{\\partial W_{ij}} = \\mathbf{\\delta}_j^q x_i$\n",
    "\n",
    "To write this in vector format we first find the derivative w.r.t $\\mathbf{w}_j$:\n",
    "$\\frac{\\partial \\mathcal{L}^{(n)}}{\\partial w_j} = \\frac{\\partial (\\mathbf{w}_j^T \\mathbf{x} + b_j - \\log{ \\sum_i \\exp{\\mathbf{w}_i^T \\mathbf{x} + b_i} )}}{\\partial w_j}  = \\mathbf{x}^T - \\frac{ \\frac{\\partial (\\sum_i \\exp{(\\mathbf{w}_i^T \\mathbf{x} + b_i)})}{\\partial w_j} }{\\sum_i \\exp{(\\mathbf{w}_i^T \\mathbf{x} + b_i)}} = \\mathbf{x}^T  - \\frac{\\exp{(\\mathbf{w}_j^T \\mathbf{x} + b_j)} \\mathbf{x}^T}{\\sum_i \\exp{(\\mathbf{w}_i^T \\mathbf{x} + b_i)}} = \\mathbf{x}^T (1 - \\frac{q_j}{\\sum_i \\exp{(\\log{q_i})}}) = \\mathbf{x}^T \\delta_j^q$\n",
    "\n",
    "Hence $\\nabla_{\\mathbf{w}_j}\\mathcal{L}^{(n)} = (\\frac{\\partial \\mathcal{L}^{(n)}}{\\partial w_j})^T  = \\delta_j^q \\mathbf{x}$"
   ]
  },
  {
   "cell_type": "markdown",
   "metadata": {
    "deletable": false,
    "editable": false,
    "nbgrader": {
     "checksum": "99387b4094640d8cd71bfd15687abc31",
     "grade": false,
     "grade_id": "cell-b0f28b0924b9983d",
     "locked": true,
     "schema_version": 1,
     "solution": false
    }
   },
   "source": [
    "### 1.1.2 Implement gradient computations (10 points)\n",
    "\n",
    "Implement the gradient calculations you derived in the previous question. Write a function `logreg_gradient(x, t, w, b)` that returns the gradients $\\nabla_{\\bw_j} \\mathcal{L}^{(n)}$ (for each $j$) and $\\nabla_{\\bb} \\mathcal{L}^{(n)}$, i.e. the first partial derivatives of the log-likelihood w.r.t. the parameters $\\bW$ and $\\bb$, evaluated at a single datapoint (`x`, `t`).\n",
    "The computation will contain roughly the following intermediate variables:\n",
    "\n",
    "$\n",
    "\\log \\bq \\rightarrow Z \\rightarrow \\log \\bp\\,,\\, \\mathbf{\\delta}^q\n",
    "$\n",
    "\n",
    "followed by computation of the gradient vectors $\\nabla_{\\bw_j} \\mathcal{L}^{(n)}$ (contained in a $784 \\times 10$ matrix) and $\\nabla_{\\bb} \\mathcal{L}^{(n)}$ (a $10 \\times 1$ vector).\n",
    "\n",
    "For maximum points, ensure the function is numerically stable.\n"
   ]
  },
  {
   "cell_type": "code",
   "execution_count": 6,
   "metadata": {
    "collapsed": true,
    "deletable": false,
    "nbgrader": {
     "checksum": "46b3dd32a8837896ac75063695c150f8",
     "grade": false,
     "grade_id": "cell-6858f885be587480",
     "locked": false,
     "schema_version": 1,
     "solution": true
    }
   },
   "outputs": [],
   "source": [
    "# 1.1.2 Compute gradient of log p(t|x;w,b) wrt w and b\n",
    "def logreg_gradient(x, t, w, b):\n",
    "    logq = (np.dot(x,w) + b).T\n",
    "\n",
    "\n",
    "    #find maximum\n",
    "    max_log = np.max(logq)\n",
    "    #use log-sum-exp trick\n",
    "    logp = logq - max_log - log(sum(exp(logq - max_log)))\n",
    "    \n",
    "    #we use: q_j/Z = exp(logp_j)\n",
    "\n",
    "    #if j not equal t, compute d = - exp(logp)\n",
    "    d= - np.exp(logp)\n",
    "    #if j = t , change only the element d[t] with the value for j=t found in 1.1.1\n",
    "    d[t] = 1 - np.exp(logp[t])\n",
    "\n",
    "        \n",
    "    dL_db = d\n",
    "    dL_dw = np.dot(d,x).T\n",
    "    logp = logp.T\n",
    "\n",
    "    return logp[:,t].squeeze(), dL_dw, dL_db.squeeze()\n"
   ]
  },
  {
   "cell_type": "code",
   "execution_count": 7,
   "metadata": {
    "deletable": false,
    "editable": false,
    "nbgrader": {
     "checksum": "bcebc974c2a0ac928c9f0381e7e86eec",
     "grade": true,
     "grade_id": "cell-1c9659f607b151a2",
     "locked": true,
     "points": 4,
     "schema_version": 1,
     "solution": false
    }
   },
   "outputs": [
    {
     "name": "stdout",
     "output_type": "stream",
     "text": [
      "Test gradient on one point\n",
      "Likelihood:\t -2.2959726720744777\n",
      "\n",
      "Grad_W_ij\t (784, 10) matrix\n",
      "Grad_W_ij[0,152:158]=\t [-0.04518971 -0.06758809 -0.07819784 -0.09077237 -0.07584012 -0.06365855]\n",
      "\n",
      "Grad_B_i shape\t (10,) vector\n",
      "Grad_B_i=\t [-0.10020327 -0.09977827 -0.1003198   0.89933657 -0.10037941 -0.10072863\n",
      " -0.09982729 -0.09928672 -0.09949324 -0.09931994]\n",
      "i in {0,...,9}; j in M\n"
     ]
    }
   ],
   "source": [
    "np.random.seed(123)\n",
    "# scalar, 10 X 768  matrix, 10 X 1 vector\n",
    "w = np.random.normal(size=(28*28,10), scale=0.001)\n",
    "# w = np.zeros((784,10))\n",
    "b = np.zeros((10,))\n",
    "\n",
    "# test gradients, train on 1 sample\n",
    "logpt, grad_w, grad_b = logreg_gradient(x_train[0:1,:], t_train[0:1], w, b)\n",
    "\n",
    "print(\"Test gradient on one point\")\n",
    "print(\"Likelihood:\\t\", logpt)\n",
    "print(\"\\nGrad_W_ij\\t\",grad_w.shape,\"matrix\")\n",
    "print(\"Grad_W_ij[0,152:158]=\\t\", grad_w[152:158,0])\n",
    "print(\"\\nGrad_B_i shape\\t\",grad_b.shape,\"vector\")\n",
    "print(\"Grad_B_i=\\t\", grad_b.T)\n",
    "print(\"i in {0,...,9}; j in M\")\n",
    "\n",
    "assert logpt.shape == (), logpt.shape\n",
    "assert grad_w.shape == (784, 10), grad_w.shape\n",
    "assert grad_b.shape == (10,), grad_b.shape\n",
    "\n",
    "\n"
   ]
  },
  {
   "cell_type": "code",
   "execution_count": 8,
   "metadata": {
    "deletable": false,
    "editable": false,
    "nbgrader": {
     "checksum": "72121207fa6163adf16cb3381ddde510",
     "grade": true,
     "grade_id": "cell-fd59c3a03a87ab83",
     "locked": true,
     "points": 4,
     "schema_version": 1,
     "solution": false
    }
   },
   "outputs": [
    {
     "name": "stdout",
     "output_type": "stream",
     "text": [
      "Finite difference error grad_w: 6.43389446029e-07\n",
      "Finite difference error grad_b: 5.2351174901e-08\n"
     ]
    }
   ],
   "source": [
    "# It's always good to check your gradient implementations with finite difference checking:\n",
    "# Scipy provides the check_grad function, which requires flat input variables.\n",
    "# So we write two helper functions that provide can compute the gradient and output with 'flat' weights:\n",
    "from scipy.optimize import check_grad\n",
    "\n",
    "np.random.seed(123)\n",
    "# scalar, 10 X 768  matrix, 10 X 1 vector\n",
    "w = np.random.normal(size=(28*28,10), scale=0.001)\n",
    "# w = np.zeros((784,10))\n",
    "b = np.zeros((10,))\n",
    "\n",
    "def func(w):\n",
    "    logpt, grad_w, grad_b = logreg_gradient(x_train[0:1,:], t_train[0:1], w.reshape(784,10), b)\n",
    "    return logpt\n",
    "def grad(w):\n",
    "    logpt, grad_w, grad_b = logreg_gradient(x_train[0:1,:], t_train[0:1], w.reshape(784,10), b)\n",
    "    return grad_w.flatten()\n",
    "finite_diff_error = check_grad(func, grad, w.flatten())\n",
    "print('Finite difference error grad_w:', finite_diff_error)\n",
    "assert finite_diff_error < 1e-3, 'Your gradient computation for w seems off'\n",
    "\n",
    "def func(b):\n",
    "    logpt, grad_w, grad_b = logreg_gradient(x_train[0:1,:], t_train[0:1], w, b)\n",
    "    return logpt\n",
    "def grad(b):\n",
    "    logpt, grad_w, grad_b = logreg_gradient(x_train[0:1,:], t_train[0:1], w, b)\n",
    "    return grad_b.flatten()\n",
    "finite_diff_error = check_grad(func, grad, b)\n",
    "print('Finite difference error grad_b:', finite_diff_error)\n",
    "assert finite_diff_error < 1e-3, 'Your gradient computation for b seems off'\n",
    "\n"
   ]
  },
  {
   "cell_type": "code",
   "execution_count": null,
   "metadata": {
    "collapsed": true,
    "deletable": false,
    "editable": false,
    "nbgrader": {
     "checksum": "82f98bef86ddcf7387f50651a739b189",
     "grade": true,
     "grade_id": "cell-91b8c5eb86f6a0f3",
     "locked": true,
     "points": 2,
     "schema_version": 1,
     "solution": false
    }
   },
   "outputs": [],
   "source": []
  },
  {
   "cell_type": "markdown",
   "metadata": {
    "deletable": false,
    "editable": false,
    "nbgrader": {
     "checksum": "1aedefd481635db2e213dacbca5959d4",
     "grade": false,
     "grade_id": "cell-bdce061b39aaacec",
     "locked": true,
     "schema_version": 1,
     "solution": false
    }
   },
   "source": [
    "\n",
    "### 1.1.3 Stochastic gradient descent (10 points)\n",
    "\n",
    "Write a function `sgd_iter(x_train, t_train, w, b)` that performs one iteration of stochastic gradient descent (SGD), and returns the new weights. It should go through the trainingset once in randomized order, call `logreg_gradient(x, t, w, b)` for each datapoint to get the gradients, and update the parameters **using a small learning rate of `1E-6`**. Note that in this case we're maximizing the likelihood function, so we should actually performing gradient ___ascent___... For more information about SGD, see Bishop 5.2.4 or an online source (i.e. https://en.wikipedia.org/wiki/Stochastic_gradient_descent)"
   ]
  },
  {
   "cell_type": "code",
   "execution_count": 9,
   "metadata": {
    "collapsed": true,
    "deletable": false,
    "nbgrader": {
     "checksum": "a1fd10093bd350a24e4a718bc0133738",
     "grade": true,
     "grade_id": "cell-86bf84658f1c5bc8",
     "locked": false,
     "points": 5,
     "schema_version": 1,
     "solution": true
    }
   },
   "outputs": [],
   "source": [
    "def sgd_iter(x_train, t_train, W, b):\n",
    "    # Shuffle the indices\n",
    "    indices = np.arange(shape(x_train)[0])\n",
    "    np.random.seed(123)\n",
    "    np.random.shuffle(indices)\n",
    "    #set learning rate\n",
    "    eta = 1E-6;\n",
    "    logp_train = 0\n",
    "    for i in indices:\n",
    "        #reshape x_train[i,:] in order for np.dot(d,x) to be valid \n",
    "        x_r = reshape(x_train[i,:], (1,len(x_train[i,:])))\n",
    "        logpt, grad_w, grad_b = logreg_gradient(x_r, t_train[i], W, b)\n",
    "        #update\n",
    "        W = W + eta * grad_w\n",
    "        b = b + eta * grad_b\n",
    "        \n",
    "    #we compute the log-likelihood of the training set using the last W,b\n",
    "    for i in indices:\n",
    "        x_r = reshape(x_train[i,:], (1,len(x_train[i,:])))\n",
    "        logpt, _, _ = logreg_gradient(x_r, t_train[i], W, b)\n",
    "        #log-likelihood of the training set is the sum of all the data points \n",
    "        logp_train += logpt\n",
    "        \n",
    "    return logp_train, W, b"
   ]
  },
  {
   "cell_type": "code",
   "execution_count": 10,
   "metadata": {
    "collapsed": true,
    "deletable": false,
    "editable": false,
    "nbgrader": {
     "checksum": "f4eb4ba6aee968be7e896cb4ef74e745",
     "grade": true,
     "grade_id": "cell-2f7bbc264cc887a0",
     "locked": true,
     "points": 5,
     "schema_version": 1,
     "solution": false
    }
   },
   "outputs": [],
   "source": [
    "# Sanity check:\n",
    "np.random.seed(1243)\n",
    "w = np.zeros((28*28, 10))\n",
    "b = np.zeros(10)\n",
    "    \n",
    "logp_train, W, b = sgd_iter(x_train[:5], t_train[:5], w, b)\n"
   ]
  },
  {
   "cell_type": "markdown",
   "metadata": {
    "deletable": false,
    "editable": false,
    "nbgrader": {
     "checksum": "32ce2e1e1bc8ee7c2ed647ea65c6f943",
     "grade": false,
     "grade_id": "cell-81634c804e1f93fc",
     "locked": true,
     "schema_version": 1,
     "solution": false
    }
   },
   "source": [
    "## 1.2. Train\n",
    "\n",
    "### 1.2.1 Train (10 points)\n",
    "Perform 10 SGD iterations through the trainingset. Plot (in one graph) the conditional log-probability of the trainingset and validation set after each iteration.\n"
   ]
  },
  {
   "cell_type": "code",
   "execution_count": 11,
   "metadata": {
    "deletable": false,
    "nbgrader": {
     "checksum": "02d6fffcf7065691be87ea236459d3e1",
     "grade": true,
     "grade_id": "cell-20a347ba4db6e82c",
     "locked": false,
     "points": 10,
     "schema_version": 1,
     "solution": true
    },
    "scrolled": false
   },
   "outputs": [
    {
     "name": "stdout",
     "output_type": "stream",
     "text": [
      "Performing SGD iteration 1 ...\n",
      "Performing SGD iteration 2 ...\n",
      "Performing SGD iteration 3 ...\n",
      "Performing SGD iteration 4 ...\n",
      "Performing SGD iteration 5 ...\n",
      "Performing SGD iteration 6 ...\n",
      "Performing SGD iteration 7 ...\n",
      "Performing SGD iteration 8 ...\n",
      "Performing SGD iteration 9 ...\n",
      "Performing SGD iteration 10 ...\n"
     ]
    },
    {
     "data": {
      "image/png": "[encoded data removed]",
      "text/plain": [
       "<matplotlib.figure.Figure at 0x1130f37f0>"
      ]
     },
     "metadata": {},
     "output_type": "display_data"
    }
   ],
   "source": [
    "\n",
    "def test_sgd(x_train, t_train, w, b):\n",
    "    #set number of iterations\n",
    "    n_iter = 10;\n",
    "    #create vectors which contain log-likelihood of training and validation set after each iteration\n",
    "    logp_train = np.zeros((n_iter,1))\n",
    "    logp_valid = np.zeros((n_iter,1))\n",
    "    \n",
    "    for i in range(n_iter):\n",
    "        #perform sgd on training set\n",
    "        print('Performing SGD iteration '+str(i+1) + ' ...')\n",
    "        logp_train[i], w, b = sgd_iter(x_train,t_train,w,b)\n",
    "        \n",
    "        #compute logp for validation set\n",
    "        for j in range(len(t_valid)):\n",
    "        \n",
    "            logq = (np.dot(x_valid[j,:],w) + b).T\n",
    "            #find maximum\n",
    "            max_log = np.max(logq)\n",
    "            #use log-sum-exp trick\n",
    "            logp = logq - max_log - log(sum(exp(logq - max_log)))\n",
    "            logp_valid[i] +=logp[t_valid[j]]\n",
    "            \n",
    "    #we normalize the log-likelihoods in order to be independent of dataset size, for the comparison to be more clear \n",
    "    logp_train_n = logp_train / shape(x_train)[0]\n",
    "    logp_valid_n = logp_valid / shape(x_valid)[0]\n",
    "    \n",
    "    fig, ax = plt.subplots();    \n",
    "    plt.plot(range(len(logp_train)),logp_train_n, label = 'training',marker = 'o');\n",
    "    plt.plot(range(len(logp_valid)),logp_valid_n,label = 'validation');\n",
    "    plt.legend()\n",
    "    xlim = (0,9)\n",
    "    xlabel('Iterations')\n",
    "    ylabel('Log-likelihood')\n",
    "    return w,b\n",
    "    \n",
    "np.random.seed(1243)\n",
    "w = np.zeros((28*28, 10))\n",
    "b = np.zeros(10)\n",
    "w,b = test_sgd(x_train, t_train, w, b)"
   ]
  },
  {
   "cell_type": "markdown",
   "metadata": {
    "deletable": false,
    "editable": false,
    "nbgrader": {
     "checksum": "a6d85bbd97cad35d524b65b23f64e75f",
     "grade": false,
     "grade_id": "cell-cf7f3da57d19493a",
     "locked": true,
     "schema_version": 1,
     "solution": false
    }
   },
   "source": [
    "### 1.2.2 Visualize weights (10 points)\n",
    "Visualize the resulting parameters $\\bW$ after a few iterations through the training set, by treating each column of $\\bW$ as an image. If you want, you can use or edit the `plot_digits(...)` above.\n"
   ]
  },
  {
   "cell_type": "code",
   "execution_count": 15,
   "metadata": {
    "deletable": false,
    "nbgrader": {
     "checksum": "4e554436500eebe1527a31039570a264",
     "grade": true,
     "grade_id": "cell-b10656f35fac065e",
     "locked": false,
     "points": 5,
     "schema_version": 1,
     "solution": true
    }
   },
   "outputs": [
    {
     "data": {
      "image/png": "[encoded data removed]",
      "text/plain": [
       "<matplotlib.figure.Figure at 0x12da10748>"
      ]
     },
     "metadata": {},
     "output_type": "display_data"
    }
   ],
   "source": [
    "#we transpose W and treat each row as an image, we do that in order to insert it in the plot_digits function\n",
    "data = w.T\n",
    "#plot 5 columns\n",
    "num_cols = 5\n",
    "\n",
    "plot_digits(data, num_cols, targets=None, shape=(28,28))"
   ]
  },
  {
   "cell_type": "markdown",
   "metadata": {
    "deletable": false,
    "nbgrader": {
     "checksum": "de187afcf5ae1e34b80bc10610760e7a",
     "grade": true,
     "grade_id": "cell-eb131c8b7303da38",
     "locked": false,
     "points": 5,
     "schema_version": 1,
     "solution": true
    }
   },
   "source": [
    "**Describe in less than 100 words why these weights minimize the loss**\n",
    "\n",
    "We know that the loss function for the logistic regression (cross-entropy) is convex and hence it has one global minimum. However since it has not closed form we cannot find an analytic solution and this is why we use SGD to find the weights that minimize the loss (or maximize the likelihood). Our learning rate is very small and hence we know that the algorithm will not diverge. From 1.2.1 we saw that the w's of the last iteration, achieve the maximum likelihood both in training and validation set and thus, we know that these weights minimize the loss.  "
   ]
  },
  {
   "cell_type": "markdown",
   "metadata": {
    "deletable": false,
    "editable": false,
    "nbgrader": {
     "checksum": "2bb485340ba8ee90a0d8cbc90fc7a7af",
     "grade": false,
     "grade_id": "cell-f36d974d9ef34c97",
     "locked": true,
     "schema_version": 1,
     "solution": false
    }
   },
   "source": [
    "### 1.2.3. Visualize the 8 hardest and 8 easiest digits (10 points)\n",
    "Visualize the 8 digits in the validation set with the highest probability of the true class label under the model.\n",
    "Also plot the 8 digits that were assigned the lowest probability.\n",
    "Ask yourself if these results make sense."
   ]
  },
  {
   "cell_type": "code",
   "execution_count": 16,
   "metadata": {
    "deletable": false,
    "nbgrader": {
     "checksum": "7fe3011f6f3ef6f6b00f58bb5dea7b76",
     "grade": true,
     "grade_id": "cell-3802d61680deeff5",
     "locked": false,
     "points": 10,
     "schema_version": 1,
     "solution": true
    }
   },
   "outputs": [
    {
     "name": "stdout",
     "output_type": "stream",
     "text": [
      "Digits with highest probability:\n"
     ]
    },
    {
     "data": {
      "image/png": "[encoded data removed]",
      "text/plain": [
       "<matplotlib.figure.Figure at 0x12da152e8>"
      ]
     },
     "metadata": {},
     "output_type": "display_data"
    },
    {
     "name": "stdout",
     "output_type": "stream",
     "text": [
      "Digits with lowest probability:\n"
     ]
    },
    {
     "data": {
      "image/png": "[encoded data removed]",
      "text/plain": [
       "<matplotlib.figure.Figure at 0x12d7fbef0>"
      ]
     },
     "metadata": {},
     "output_type": "display_data"
    }
   ],
   "source": [
    "#Compute log-likelihood for validation set\n",
    "logq = (np.dot(x_valid,w) + b).T\n",
    "#find maximum\n",
    "max_log = np.max(logq)\n",
    "#use log-sum-exp trick\n",
    "logp = logq - max_log - log(sum(exp(logq - max_log)))\n",
    "p_valid = np.zeros(shape(x_valid)[0],)\n",
    "for i in range(shape(x_valid)[0]):\n",
    "    p_valid[i] = logp[t_valid[i],i]\n",
    "\n",
    "#sort the likelihoods in the validation set\n",
    "p_val_sort = sort(p_valid)\n",
    "#find 8 lowest and 8 highest likelihoods\n",
    "lowest8 = p_val_sort[np.r_[0:8]]\n",
    "highest8 = p_val_sort[np.r_[-8:0]]\n",
    "#create matrices for the indices\n",
    "low_ind = []\n",
    "high_ind = []\n",
    "#find the indices of the digits with the highest and lowest probabilities\n",
    "for i in range(shape(x_valid)[0]):\n",
    "    for j in lowest8:\n",
    "        if (p_valid[i] == j):\n",
    "            low_ind.append(i)\n",
    "    for j in highest8:\n",
    "        if (p_valid[i] == j):\n",
    "            high_ind.append(i)\n",
    "        \n",
    "#Plot the digits\n",
    "\n",
    "#Highest probability digits\n",
    "print('Digits with highest probability:')\n",
    "plot_digits(x_valid[high_ind], 2, targets=t_valid[high_ind], shape=(28,28))\n",
    "#lowest probability digits\n",
    "print('Digits with lowest probability:')\n",
    "plot_digits(x_valid[low_ind], 2, targets=t_valid[low_ind], shape=(28,28))\n",
    "\n",
    "#We observe that the digits with highest probabilities are all zeros, since they are very easy to be recognized.\n",
    "#We see that the lowest probability digits have wierd typewritting and can easily be misinterpreted for another digit."
   ]
  },
  {
   "cell_type": "markdown",
   "metadata": {
    "deletable": false,
    "editable": false,
    "nbgrader": {
     "checksum": "8d3b971f8daced95f5020cfffcb89d02",
     "grade": false,
     "grade_id": "cell-2c525344c99e5b26",
     "locked": true,
     "schema_version": 1,
     "solution": false
    }
   },
   "source": [
    "# Part 2. Multilayer perceptron\n",
    "\n",
    "\n",
    "You discover that the predictions by the logistic regression classifier are not good enough for your application: the model is too simple. You want to increase the accuracy of your predictions by using a better model. For this purpose, you're going to use a multilayer perceptron (MLP), a simple kind of neural network. The perceptron wil have a single hidden layer $\\bh$ with $L$ elements. The parameters of the model are $\\bV$ (connections between input $\\bx$ and hidden layer $\\bh$), $\\ba$ (the biases/intercepts of $\\bh$), $\\bW$ (connections between $\\bh$ and $\\log q$) and $\\bb$ (the biases/intercepts of $\\log q$.\n",
    "\n",
    "The conditional probability of the class label $j$ is given by:\n",
    "\n",
    "$\\log p(t = j \\;|\\; \\bx, \\bb, \\bW) = \\log q_j - \\log Z$\n",
    "\n",
    "where $q_j$ are again the unnormalized probabilities per class, and $Z = \\sum_j q_j$ is again the probability normalizing factor. Each $q_j$ is computed using:\n",
    "\n",
    "$\\log q_j = \\bw_j^T \\bh + b_j$\n",
    "\n",
    "where $\\bh$ is a $L \\times 1$ vector with the hidden layer activations (of a hidden layer with size $L$), and $\\bw_j$ is the $j$-th column of $\\bW$ (a $L \\times 10$ matrix). Each element of the hidden layer is computed from the input vector $\\bx$ using:\n",
    "\n",
    "$h_j = \\sigma(\\bv_j^T \\bx + a_j)$\n",
    "\n",
    "where $\\bv_j$ is the $j$-th column of $\\bV$ (a $784 \\times L$ matrix), $a_j$ is the $j$-th element of $\\ba$, and $\\sigma(.)$ is the so-called sigmoid activation function, defined by:\n",
    "\n",
    "$\\sigma(x) = \\frac{1}{1 + \\exp(-x)}$\n",
    "\n",
    "Note that this model is almost equal to the multiclass logistic regression model, but with an extra 'hidden layer' $\\bh$. The activations of this hidden layer can be viewed as features computed from the input, where the feature transformation ($\\bV$ and $\\ba$) is learned.\n",
    "\n",
    "## 2.1 Derive gradient equations (20 points)\n",
    "\n",
    "State (shortly) why $\\nabla_{\\bb} \\mathcal{L}^{(n)}$ is equal to the earlier (multiclass logistic regression) case, and why $\\nabla_{\\bw_j} \\mathcal{L}^{(n)}$ is almost equal to the earlier case.\n",
    "\n",
    "Like in multiclass logistic regression, you should use intermediate variables $\\mathbf{\\delta}_j^q$. In addition, you should use intermediate variables $\\mathbf{\\delta}_j^h = \\frac{\\partial \\mathcal{L}^{(n)}}{\\partial h_j}$.\n",
    "\n",
    "Given an input image, roughly the following intermediate variables should be computed:\n",
    "\n",
    "$\n",
    "\\log \\bq \\rightarrow Z \\rightarrow \\log \\bp \\rightarrow \\mathbf{\\delta}^q \\rightarrow \\mathbf{\\delta}^h\n",
    "$\n",
    "\n",
    "where $\\mathbf{\\delta}_j^h = \\frac{\\partial \\mathcal{L}^{(n)}}{\\partial \\bh_j}$.\n",
    "\n",
    "Give the equations for computing $\\mathbf{\\delta}^h$, and for computing the derivatives of $\\mathcal{L}^{(n)}$ w.r.t. $\\bW$, $\\bb$, $\\bV$ and $\\ba$. \n",
    "\n",
    "You can use the convenient fact that $\\frac{\\partial}{\\partial x} \\sigma(x) = \\sigma(x) (1 - \\sigma(x))$."
   ]
  },
  {
   "cell_type": "markdown",
   "metadata": {
    "deletable": false,
    "nbgrader": {
     "checksum": "bb7ce29f01484f94a6357784ddaf6412",
     "grade": true,
     "grade_id": "cell-48f48bb8ec75cc3c",
     "locked": false,
     "points": 20,
     "schema_version": 1,
     "solution": true
    }
   },
   "source": [
    "---\n",
    "\n",
    "We first find $\\delta_j^h$:\n",
    "\n",
    "For $j = t^{(n)}: \\delta_j^h = \n",
    "\\frac{\\partial \\log q_j}{\\partial \\log q_j} \\frac{\\partial \\log{q_j}}{\\partial h_j}\n",
    "- \n",
    "\\frac{\\partial \\log Z}{\\partial Z} \n",
    "\\frac{\\partial Z}{\\partial \\log q_j} \\frac{\\partial \\log{q_j}}{\\partial h_j} = \\left(\\frac{\\partial \\log q_j}{\\partial \\log q_j} \n",
    "- \n",
    "\\frac{\\partial \\log Z}{\\partial Z} \n",
    "\\frac{\\partial Z}{\\partial \\log q_j}  \\right) \\frac{\\log{q_j}}{\\partial h_j} = \\delta_j^q \\frac{\\partial (\\mathbf{w}_j^T \\mathbf{h} + b_j)}{\\partial h_j} = \\delta_j^q \\mathbf{w}_j^T$\n",
    "\n",
    "\n",
    "For $j \\neq t^{(n)}: \\delta_j^h = \\frac{\\partial \\mathcal{L}^{(n)}}{\\partial \\log Z}\n",
    "\\frac{\\partial \\log Z}{\\partial Z} \n",
    "\\frac{\\partial Z}{\\partial \\log q_j}  \\frac{\\partial \\log{q_j}}{\\partial h_j} = \\delta_j^q \\mathbf{w}_j^T $\n",
    "\n",
    "Alternatively, we can find $\\delta^h$ in vector form as:\n",
    "\n",
    "$\\delta^h =  \\frac{\\partial \\mathcal{L}^{(n)}}{\\partial \\log q} \\frac{\\partial \\log q}{\\partial \\mathbf{h}} = \\delta^q \\frac{\\partial (\\mathbf{W}^T \\mathbf{h} + \\mathbf{b})}{\\partial \\mathbf{h}} = \\delta^q \\mathbf{W}^T$ \n",
    "\n",
    "Next, we find the derivatives of $\\mathcal{L}^{(n)}$ w.r.t. $\\bW$, $\\bb$, $\\bV$ and $\\ba$:\n",
    "\n",
    "$\\frac{\\partial \\mathcal{L}^{(n)}}{\\partial \\mathbf{W}} = \\frac{\\partial \\mathcal{L}^{(n)}}{\\partial \\log{q}} \\frac{\\partial \\log{q}}{\\partial \\mathbf{W}} = \\delta^q \\frac{\\partial (\\mathbf{W}^T \\mathbf{h} + \\mathbf{b})}{\\partial \\mathbf{W}} = \\delta^q \\mathbf{h} $\n",
    "\n",
    "\n",
    "$\\frac{\\partial \\mathcal{L}^{(n)}}{\\partial \\mathbf{b}} = \\frac{\\partial \\mathcal{L}^{(n)}}{\\partial \\log{q}} \\frac{\\partial \\log{q}}{\\partial \\mathbf{b}} = \\delta^q  \\cdot 1 = \\delta^q $\n",
    "\n",
    "\n",
    "$ \\frac{\\partial \\mathcal{L}^{(n)}}{\\partial \\mathbf{V}} = \\frac{\\partial \\mathcal{L}^{(n)}}{\\partial \\mathbf{h}} \\frac{\\partial \\bh}{\\partial \\bV} = \\delta^h \\frac{\\partial (\\sigma(\\bV^T \\bx + \\ba))}{\\partial \\bV} = \\delta^h  \\sigma(\\bV^T \\bx + \\ba) (1 - \\sigma(\\bV^T \\bx + \\ba))  \\frac{\\partial (\\bV^T \\bx + \\ba)}{\\partial V}  = \\delta^h \\sigma(\\bV^T \\bx + \\ba) (1 - \\sigma(\\bV^T \\bx + \\ba)) \\bx$ \n",
    "\n",
    "\n",
    "$\\frac{\\partial \\mathcal{L}^{(n)}}{\\partial \\mathbf{a}} = \\frac{\\partial \\mathcal{L}^{(n)}}{\\partial \\mathbf{h}} \\frac{\\partial \\bh}{\\partial \\ba} = \\delta^h \\sigma(\\bV^T \\bx + \\ba) (1 - \\sigma(\\bV^T \\bx + \\ba))  \\frac{\\partial (\\sigma(\\bV^T \\bx + \\ba))}{\\partial \\ba}  = \\delta^h \\sigma(\\bV^T \\bx + \\ba) (1 - \\sigma(\\bV^T \\bx + \\ba)) $\n",
    "\n",
    "\n",
    "The multilayer perceptron is almost equal to the previous logistic regression but has an extra hidden layer $\\bh$. Since $\\bb$ does not depend on the hidden layer, $\\nabla_{\\bb} \\mathcal{L}^{(n)}$ is the same as in the logistic regression model. However, in the perceptron $\\bW^T$ is multiplied by the hidden layer within $\\log q$ while in the logistic regression it was multiplied directly by the input $\\bx$. This is why $\\nabla_{\\bw_j} \\mathcal{L}^{(n)}$ in both cases is similar, but not exactly the same."
   ]
  },
  {
   "cell_type": "markdown",
   "metadata": {
    "deletable": false,
    "editable": false,
    "nbgrader": {
     "checksum": "cfcfec5959134f7f3fca2ba585a94fba",
     "grade": false,
     "grade_id": "cell-0bff945081e993fc",
     "locked": true,
     "schema_version": 1,
     "solution": false
    }
   },
   "source": [
    "## 2.2 MAP optimization (10 points)\n",
    "\n",
    "You derived equations for finding the _maximum likelihood_ solution of the parameters. Explain, in a few sentences, how you could extend this approach so that it optimizes towards a _maximum a posteriori_ (MAP) solution of the parameters, with a Gaussian prior on the parameters. "
   ]
  },
  {
   "cell_type": "markdown",
   "metadata": {
    "deletable": false,
    "nbgrader": {
     "checksum": "49d6376929b1cdf60a9ca9282512f1b4",
     "grade": true,
     "grade_id": "cell-1daef2744c010b73",
     "locked": false,
     "points": 10,
     "schema_version": 1,
     "solution": true
    }
   },
   "source": [
    "---\n",
    "Since we have likelihood and prior, we can find the log-posterior, by adding the logarithms of likelihood and prior. Then we can find the MAP estimates of the parameters by finding the derivatives of the log-posterior w.r.t the parameters and by setting these derivatives to zero. Then we solve for the corresponding parameter and we find maximum a posteriori solution of the parameters. Note that a MAP approach is equivalent to regularized maximum likelihood and the regularizer can be viewed as the logarithm of the prior parameter distribution, in our case a Gaussian prior. This can help us to prevent overfitting."
   ]
  },
  {
   "cell_type": "markdown",
   "metadata": {
    "deletable": false,
    "editable": false,
    "nbgrader": {
     "checksum": "02e47e2058c064a6f9518077e62a9357",
     "grade": false,
     "grade_id": "cell-2e56d8a567e2fb08",
     "locked": true,
     "schema_version": 1,
     "solution": false
    }
   },
   "source": [
    "## 2.3. Implement and train a MLP (15 points)\n",
    "\n",
    "Implement a MLP model with a single hidden layer of **20 neurons**. \n",
    "Train the model for **10 epochs**.\n",
    "Plot (in one graph) the conditional log-probability of the trainingset and validation set after each two iterations, as well as the weights.\n",
    "\n",
    "- 10 points: Working MLP that learns with plots\n",
    "- +5 points: Fast, numerically stable, vectorized implementation"
   ]
  },
  {
   "cell_type": "code",
   "execution_count": 47,
   "metadata": {
    "collapsed": true,
    "deletable": false,
    "nbgrader": {
     "checksum": "f8772d3e65d7f1bef5b739a62c2e192f",
     "grade": true,
     "grade_id": "cell-5d1924ace9e216e2",
     "locked": false,
     "points": 5,
     "schema_version": 1,
     "solution": true
    },
    "scrolled": true
   },
   "outputs": [],
   "source": [
    "# Write all helper functions here\n",
    "\n",
    "def sigmoid(x):\n",
    "    s = 1 / (1 + exp(-x))\n",
    "    return s\n",
    "\n",
    "def gradients(x,t,V,W,a,b):\n",
    "    #use np.apply_along_axis to apply the sigmoid function to every row of the matrix np.dot(V.T,x.T) + a\n",
    "    #We do that in order to avoid using a for loop\n",
    "    h = np.apply_along_axis(sigmoid, 1, np.dot(V.T,x.T) + a)\n",
    "\n",
    "    #compute logq\n",
    "    logq = (np.dot(W.T,h) + b)\n",
    "    max_log = np.max(logq)\n",
    "    #use log-sum-exp trick to compute logp\n",
    "    logp = logq - max_log - log(sum(exp(logq - max_log)))\n",
    "\n",
    "    #Compute delta^q:10x1 vector\n",
    "\n",
    "    #q_j/Z = exp(logp_j)\n",
    "\n",
    "    #if j not equal t\n",
    "    dq= - exp(logp)\n",
    "    #if j = t  \n",
    "    dq[t] = 1 - exp(logp[t])\n",
    "\n",
    "    #Compute delta^h: Lx1 vector\n",
    "    dh = np.dot(dq.T,W.T).T\n",
    "\n",
    "    #Compute derivatives\n",
    "\n",
    "    #dL_dW: Lx10\n",
    "    dL_dW = np.dot(dq,h.T).T\n",
    "\n",
    "    #dL_db: 10x1 vector\n",
    "    dL_db = dq\n",
    "\n",
    "    #dL_dV:784xL matrix\n",
    "    #we split the product in 2 parts\n",
    "    #We first multiply dh, h and 1-h elementwise\n",
    "    c = np.multiply(np.multiply(dh,h),1-h)\n",
    "    #then we take the dot product with x\n",
    "    dL_dV = np.dot(c,x).T\n",
    "\n",
    "    #dL_da: Lx1 vector\n",
    "    dL_da = c\n",
    "    \n",
    "    return dL_dW, dL_db, dL_dV, dL_da, logp[t]\n",
    "\n",
    "def sgd_iter_mlp(x_train, t_train, W, b,V,a,eta):\n",
    "    # Shuffle the indices\n",
    "    indices = np.arange(shape(x_train)[0])\n",
    "    np.random.seed(123)\n",
    "    np.random.shuffle(indices)\n",
    "    logp_train = 0\n",
    "    for i in indices:\n",
    "        #again we reshape x in order to put it in gradients function as 1x784\n",
    "        x_r = reshape(x_train[i,:], (1,len(x_train[i,:])))\n",
    "        dL_dW, dL_db, dL_dV, dL_da, logpt = gradients(x_r,t_train[i],V,W,a,b)\n",
    "    \n",
    "        #perform updates\n",
    "        W = W + eta * dL_dW\n",
    "        b = b + eta * dL_db\n",
    "        V = V + eta * dL_dV\n",
    "        a = a + eta * dL_da\n",
    "    \n",
    "    #we compute the log-likelihood of the training set using the last W,b\n",
    "    for i in indices:\n",
    "        x_r = reshape(x_train[i,:], (1,len(x_train[i,:])))\n",
    "        _, _, _, _, logpt = gradients(x_r,t_train[i],V,W,a,b)\n",
    "        logp_train += logpt\n",
    "\n",
    "    return logp_train, W,b,V,a"
   ]
  },
  {
   "cell_type": "code",
   "execution_count": 49,
   "metadata": {
    "deletable": false,
    "nbgrader": {
     "checksum": "301c1950ea79e09141e8ed170bd8b21b",
     "grade": true,
     "grade_id": "cell-e9b2125a5ea8a22c",
     "locked": false,
     "points": 10,
     "schema_version": 1,
     "solution": true
    },
    "scrolled": true
   },
   "outputs": [
    {
     "name": "stdout",
     "output_type": "stream",
     "text": [
      "Performing SGD iteration 1 ...\n",
      "Performing SGD iteration 2 ...\n",
      "Performing SGD iteration 3 ...\n",
      "Performing SGD iteration 4 ...\n",
      "Performing SGD iteration 5 ...\n",
      "Performing SGD iteration 6 ...\n",
      "Performing SGD iteration 7 ...\n",
      "Performing SGD iteration 8 ...\n",
      "Performing SGD iteration 9 ...\n",
      "Performing SGD iteration 10 ...\n"
     ]
    },
    {
     "data": {
      "image/png": "[encoded data removed]",
      "text/plain": [
       "<matplotlib.figure.Figure at 0x10d3ab4e0>"
      ]
     },
     "metadata": {},
     "output_type": "display_data"
    },
    {
     "data": {
      "image/png": "[encoded data removed]",
      "text/plain": [
       "<matplotlib.figure.Figure at 0x12435e0f0>"
      ]
     },
     "metadata": {},
     "output_type": "display_data"
    }
   ],
   "source": [
    "# Write training code here:\n",
    "# Plot the conditional loglikelihoods for the train and validation dataset after every iteration.\n",
    "# Plot the weights of the first layer.\n",
    "\n",
    "def train_mlp(n_iter, L,W,V,b,a,x_train,t_train,x_valid,t_valid,eta):\n",
    "    #create vectors which contain log-likelihood of training and validation set after each iteration\n",
    "    logp_train = np.zeros((n_iter,1))\n",
    "    logp_valid = np.zeros((n_iter,1))\n",
    "\n",
    "    for i in range(n_iter):\n",
    "        #perform sgd on training set\n",
    "        print('Performing SGD iteration '+str(i+1) + ' ...')\n",
    "        logp_train[i], W,b,V,a = sgd_iter_mlp(x_train, t_train, W, b,V,a,eta)\n",
    "    \n",
    "        #compute logp for validation set\n",
    "        for j in range(len(t_valid)):\n",
    "            #reshape as before to have x_r_v as 1x784\n",
    "            x_r_v = reshape(x_valid[j,:], (1,len(x_valid[j,:])))\n",
    "            h = np.apply_along_axis(sigmoid, 1, np.dot(V.T,x_r_v.T) + a)\n",
    "            #compute logq\n",
    "            logq = (np.dot(W.T,h) + b)\n",
    "            max_log = np.max(logq)\n",
    "            #use log-sum-exp trick to compute logp\n",
    "            logp = logq - max_log - log(sum(exp(logq - max_log)))\n",
    "            logp_valid[i] +=logp[t_valid[j]]\n",
    "\n",
    "        \n",
    "    #we normalize the log-likelihoods in order for the comparison to be more clear \n",
    "    logp_train_n = logp_train / shape(x_train)[0]\n",
    "    logp_valid_n = logp_valid / shape(x_valid)[0]\n",
    "    \n",
    "    fig, ax = plt.subplots();    \n",
    "    plt.plot(range(len(logp_train)),logp_train_n, label = 'training',marker = 'o');\n",
    "    plt.plot(range(len(logp_valid)),logp_valid_n,label = 'validation');\n",
    "    plt.legend();\n",
    "    xlim = (0,9);\n",
    "    xlabel('Iterations');\n",
    "    ylabel('Log-likelihood');\n",
    "    \n",
    "    fig2, ax2 = plt.subplots(); \n",
    "    data = V.T\n",
    "    #plot 5 columns\n",
    "    num_cols = 5\n",
    "\n",
    "    plot_digits(data, num_cols, targets=None, shape=(28,28))\n",
    "\n",
    "    return W,V,b,a\n",
    "    \n",
    "    \n",
    "    \n",
    "np.random.seed(99)\n",
    "n_iter = 10;\n",
    "L = 20\n",
    "W = np.random.normal(size=(L,10), scale=0.001)\n",
    "V = np.random.normal(size=(28*28,L), scale=0.001)\n",
    "b = np.zeros((10,1))\n",
    "a = np.zeros((L,1))\n",
    "eta = 1E-2\n",
    "\n",
    "\n",
    "W,V,b,a = train_mlp(n_iter, L,W,V,b,a,x_train,t_train,x_valid,t_valid,eta)\n",
    "\n",
    "\n",
    "#With eta = 1E-2, and scales 0.001-> mis.rate on test set = 5.23%\n",
    "\n",
    "    "
   ]
  },
  {
   "cell_type": "markdown",
   "metadata": {
    "deletable": false,
    "editable": false,
    "nbgrader": {
     "checksum": "555a73588f1a55d1185064f5a6192cac",
     "grade": false,
     "grade_id": "cell-6ae8cb5a4c246b97",
     "locked": true,
     "schema_version": 1,
     "solution": false
    }
   },
   "source": [
    "### 2.3.1. Explain the weights (5 points)\n",
    "In less than 80 words, explain how and why the weights of the hidden layer of the MLP differ from the logistic regression model, and relate this to the stronger performance of the MLP."
   ]
  },
  {
   "cell_type": "markdown",
   "metadata": {
    "deletable": false,
    "nbgrader": {
     "checksum": "7f6cbf48a398f8722f4d403b957b2075",
     "grade": true,
     "grade_id": "cell-c4fdc27b1aab6828",
     "locked": false,
     "points": 5,
     "schema_version": 1,
     "solution": true
    }
   },
   "source": [
    "---\n",
    "In logistic regression we use basis functions that are fixed in advance. On the other hand with MLP we use adaptive basis functions which means that we learn the feature vectors (they adapt to the data). Moreover, the logistic regression is a linear parametric model, while the MLP is a non-linear parametric model. These differences between the 2 models lead to higher performance of the MLP compared to the logistic regression."
   ]
  },
  {
   "cell_type": "markdown",
   "metadata": {
    "deletable": false,
    "editable": false,
    "nbgrader": {
     "checksum": "fa501d2127075b733105148f21adbaf2",
     "grade": false,
     "grade_id": "cell-df7f372be57b921b",
     "locked": true,
     "schema_version": 1,
     "solution": false
    }
   },
   "source": [
    "### 2.3.1. Less than 250 misclassifications on the test set (10 bonus points)\n",
    "\n",
    "You receive an additional 10 bonus points if you manage to train a model with very high accuracy: at most 2.5% misclasified digits on the test set. Note that the test set contains 10000 digits, so you model should misclassify at most 250 digits. This should be achievable with a MLP model with one hidden layer. See results of various models at : `http://yann.lecun.com/exdb/mnist/index.html`. To reach such a low accuracy, you probably need to have a very high $L$ (many hidden units), probably $L > 200$, and apply a strong Gaussian prior on the weights. In this case you are allowed to use the validation set for training.\n",
    "You are allowed to add additional layers, and use convolutional networks, although that is probably not required to reach 2.5% misclassifications."
   ]
  },
  {
   "cell_type": "code",
   "execution_count": 6,
   "metadata": {
    "collapsed": true,
    "deletable": false,
    "nbgrader": {
     "checksum": "3d3ce073f1614deb4cc03de3f19879aa",
     "grade": false,
     "grade_id": "cell-2ea313ac02319aa0",
     "locked": false,
     "schema_version": 1,
     "solution": true
    }
   },
   "outputs": [],
   "source": [
    "predict_test = np.zeros(len(t_test))\n",
    "\n",
    "#We create the function that computes the logp using the tuned parameters, in order to predict\n",
    "def predict(W,V,a,b,x):\n",
    "    h = np.apply_along_axis(sigmoid, 1, np.dot(V.T,x.T) + a)\n",
    "\n",
    "    #compute logq\n",
    "    logq = (np.dot(W.T,h) + b)\n",
    "    max_log = np.max(logq)\n",
    "    #use log-sum-exp trick to compute logp\n",
    "    logp = logq - max_log - log(sum(exp(logq - max_log)))\n",
    "\n",
    "    return logp\n",
    "\n"
   ]
  },
  {
   "cell_type": "code",
   "execution_count": 25,
   "metadata": {
    "collapsed": true
   },
   "outputs": [],
   "source": [
    "def train_mlp_largeL(n_iter, L,W,V,b,a,x_train,t_train,eta):\n",
    "    #create vectors which contain log-likelihood of training and validation set after each iteration\n",
    "    logp_train = np.zeros((n_iter,1))\n",
    "\n",
    "    for i in range(n_iter):\n",
    "        #perform sgd on training set\n",
    "        print('Performing SGD iteration '+str(i+1) + ' ...')\n",
    "        logp_train[i], W,b,V,a = sgd_iter_mlp(x_train, t_train, W, b,V,a,eta)\n",
    " \n",
    "    #we normalize the log-likelihoods in order for the comparison to be more clear \n",
    "    logp_train_n = logp_train / shape(x_train)[0]\n",
    "    \n",
    "    fig, ax = plt.subplots();    \n",
    "    plt.plot(range(len(logp_train)),logp_train_n, label = 'training',marker = 'o');\n",
    "    plt.legend();\n",
    "    xlim = (0,9);\n",
    "    xlabel('Iterations');\n",
    "    ylabel('Log-likelihood');\n",
    "    return W,V,b,a"
   ]
  },
  {
   "cell_type": "code",
   "execution_count": 28,
   "metadata": {
    "scrolled": true
   },
   "outputs": [
    {
     "name": "stdout",
     "output_type": "stream",
     "text": [
      "Iteration for n_iter = 15...\n",
      "Performing SGD iteration 1\n",
      "Performing SGD iteration 2\n",
      "Performing SGD iteration 3\n",
      "Performing SGD iteration 4\n",
      "Performing SGD iteration 5\n",
      "Performing SGD iteration 6\n",
      "Performing SGD iteration 7\n",
      "Performing SGD iteration 8\n",
      "Performing SGD iteration 9\n",
      "Performing SGD iteration 10\n",
      "Performing SGD iteration 11\n",
      "Performing SGD iteration 12\n",
      "Performing SGD iteration 13\n",
      "Performing SGD iteration 14\n",
      "Performing SGD iteration 15\n",
      "Misclassification rate: [ 2.3]% L: 15\n",
      "Iteration for n_iter = 20...\n",
      "Performing SGD iteration 1\n",
      "Performing SGD iteration 2\n",
      "Performing SGD iteration 3\n",
      "Performing SGD iteration 4\n",
      "Performing SGD iteration 5\n",
      "Performing SGD iteration 6\n",
      "Performing SGD iteration 7\n",
      "Performing SGD iteration 8\n",
      "Performing SGD iteration 9\n",
      "Performing SGD iteration 10\n",
      "Performing SGD iteration 11\n",
      "Performing SGD iteration 12\n",
      "Performing SGD iteration 13\n",
      "Performing SGD iteration 14\n",
      "Performing SGD iteration 15\n",
      "Performing SGD iteration 16\n",
      "Performing SGD iteration 17\n",
      "Performing SGD iteration 18\n",
      "Performing SGD iteration 19\n",
      "Performing SGD iteration 20\n",
      "Misclassification rate: [ 1.94]% L: 20\n"
     ]
    },
    {
     "data": {
      "image/png": "[encoded data removed]",
      "text/plain": [
       "<matplotlib.figure.Figure at 0x10d2e9748>"
      ]
     },
     "metadata": {},
     "output_type": "display_data"
    },
    {
     "data": {
      "image/png": "[encoded data removed]",
      "text/plain": [
       "<matplotlib.figure.Figure at 0x1242fbd30>"
      ]
     },
     "metadata": {},
     "output_type": "display_data"
    }
   ],
   "source": [
    "#Tuning\n",
    "\n",
    "\n",
    "#tried eta = [0.1,0.01,0.001,0.0001], \n",
    "#best misclassification rate in validation set, with eta = 0.01 : 4.05%\n",
    "#eta = 0.1 : 4.79%\n",
    "#eta =  0.001: 4.11%\n",
    "#eta=0.0001 : 4.08%\n",
    "\n",
    "\n",
    "#L = 50 : 3.21%\n",
    "#L = 80 : 3%\n",
    "#L = 120 : 2.95 %\n",
    "#L = 160 : 2.82 % \n",
    "#L = 200: 2.59 % \n",
    "#L = 210: 2.57% \n",
    "#L = 215: 2.67%\n",
    "#L = 220: 2.58%\n",
    "# L = 210 and n_iter = 15 : 2.3%\n",
    "# L = 210 and n_iter = 20: 1.94% <-- use this setting for the test set, train in both training and validation\n",
    "\n",
    "#tried n_iter = 8,9,10, with n_iter = 10 mis_rate = 2.02%\n",
    "\n",
    "np.random.seed(99)\n",
    "n_iter = [15,20];\n",
    "L = 210;\n",
    "W = np.random.normal(size=(L,10), scale=0.001)\n",
    "V = np.random.normal(size=(28*28,L), scale=0.001)\n",
    "a = np.zeros((L,1))\n",
    "b = np.zeros((10,1))\n",
    "eta = 0.01\n",
    "mis_rate = np.empty((len(n_iter),1))\n",
    "for i in range(len(n_iter)):\n",
    "   \n",
    "\n",
    "    print('Iteration for n_iter = ' + str(n_iter[i]) + '...')\n",
    "    W,V,b,a = train_mlp_largeL(n_iter[i],L,W,V,b,a,x_train,t_train,eta)\n",
    "    logp_valid = predict(W,V,a,b,x_valid)\n",
    "\n",
    "    #use argmax to get indices of maximum values along axis 0 (the columns)\n",
    "    predict_valid = numpy.argmax(logp_valid,axis=0)    \n",
    "    n_errors = np.sum(predict_valid != t_valid)\n",
    "    mis_rate[i] = n_errors/len(t_valid)\n",
    "    print('Misclassification rate: '+ str(mis_rate[i]*100) + '%' + ' L: ' + str(n_iter[i]))"
   ]
  },
  {
   "cell_type": "code",
   "execution_count": 30,
   "metadata": {
    "scrolled": true
   },
   "outputs": [
    {
     "name": "stdout",
     "output_type": "stream",
     "text": [
      "Performing SGD iteration 1\n",
      "Performing SGD iteration 2\n",
      "Performing SGD iteration 3\n",
      "Performing SGD iteration 4\n",
      "Performing SGD iteration 5\n",
      "Performing SGD iteration 6\n",
      "Performing SGD iteration 7\n",
      "Performing SGD iteration 8\n",
      "Performing SGD iteration 9\n",
      "Performing SGD iteration 10\n",
      "Performing SGD iteration 11\n",
      "Performing SGD iteration 12\n",
      "Performing SGD iteration 13\n",
      "Performing SGD iteration 14\n",
      "Performing SGD iteration 15\n",
      "Performing SGD iteration 16\n",
      "Performing SGD iteration 17\n",
      "Performing SGD iteration 18\n",
      "Performing SGD iteration 19\n",
      "Performing SGD iteration 20\n"
     ]
    },
    {
     "data": {
      "image/png": "[encoded data removed]",
      "text/plain": [
       "<matplotlib.figure.Figure at 0x10d47bb70>"
      ]
     },
     "metadata": {},
     "output_type": "display_data"
    }
   ],
   "source": [
    "#Model with more neurons for better performance\n",
    "#L = 210, eta = 0.01 and n_iter = 20: train in training and validation set, test error: 2.28%\n",
    "\n",
    "np.random.seed(99)\n",
    "n_iter = 20;\n",
    "L = 210\n",
    "W = np.random.normal(size=(L,10), scale=0.001)\n",
    "V = np.random.normal(size=(28*28,L), scale=0.001)\n",
    "b = np.zeros((10,1))\n",
    "a = np.zeros((L,1))\n",
    "eta = 0.01\n",
    "\n",
    "#merge training and validation set\n",
    "x_merged = np.concatenate((x_train, x_valid), axis=0)\n",
    "t_merged = np.concatenate((t_train, t_valid), axis=0)\n",
    "\n",
    "W,V,b,a = train_mlp_largeL(n_iter,L,W,V,b,a,x_merged,t_merged,eta)"
   ]
  },
  {
   "cell_type": "code",
   "execution_count": 38,
   "metadata": {},
   "outputs": [
    {
     "name": "stdout",
     "output_type": "stream",
     "text": [
      "Misclassification rate on test set: 5.23%\n"
     ]
    }
   ],
   "source": [
    "#Predict in test set\n",
    "logp_test = predict(W,V,a,b,x_test)\n",
    "\n",
    "#use argmax to get indices of maximum values along axis 0 (the columns)\n",
    "predict_test = numpy.argmax(logp_test,axis=0)    \n",
    "n_errors = np.sum(predict_test != t_test)\n",
    "mis_rate = n_errors/len(t_test)\n",
    "print('Misclassification rate on test set: '+ str(mis_rate*100) + '%')"
   ]
  },
  {
   "cell_type": "code",
   "execution_count": 32,
   "metadata": {
    "deletable": false,
    "editable": false,
    "nbgrader": {
     "checksum": "b540e8fc73d65a4cc4139d9841e4aaba",
     "grade": true,
     "grade_id": "cell-4ad977cd0b7d27df",
     "locked": true,
     "points": 10,
     "schema_version": 1,
     "solution": false
    }
   },
   "outputs": [
    {
     "name": "stdout",
     "output_type": "stream",
     "text": [
      "Test errors: 228\n"
     ]
    }
   ],
   "source": [
    "assert predict_test.shape == t_test.shape\n",
    "n_errors = np.sum(predict_test != t_test)\n",
    "print('Test errors: %d' % n_errors)"
   ]
  }
 ],
 "metadata": {
  "kernelspec": {
   "display_name": "Python 3",
   "language": "python",
   "name": "python3"
  },
  "language_info": {
   "codemirror_mode": {
    "name": "ipython",
    "version": 3
   },
   "file_extension": ".py",
   "mimetype": "text/x-python",
   "name": "python",
   "nbconvert_exporter": "python",
   "pygments_lexer": "ipython3",
   "version": "3.6.3"
  }
 },
 "nbformat": 4,
 "nbformat_minor": 1
}
